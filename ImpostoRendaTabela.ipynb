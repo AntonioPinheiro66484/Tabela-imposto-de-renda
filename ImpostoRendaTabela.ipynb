{
 "cells": [
  {
   "cell_type": "code",
   "execution_count": 1,
   "metadata": {},
   "outputs": [],
   "source": [
    "def calcularIr(rendaAnual):\n",
    "    if rendaAnual < 0:\n",
    "        return \"Renda negativa, não é elegível para Imposto de Renda\"\n",
    "    elif rendaAnual >= 0 and rendaAnual <= 21453.23:\n",
    "        ir = 0\n",
    "    elif rendaAnual >= 21453.24 and rendaAnual <= 32151.48:\n",
    "        ir = (rendaAnual - 1608.99) * 0.07\n",
    "    elif rendaAnual >= 32151.49 and rendaAnual <= 42869.16:\n",
    "        ir = (rendaAnual - 4020.35) * 0.15\n",
    "    elif rendaAnual >=  42869.17 and rendaAnual <= 53565.72:\n",
    "        ir = (rendaAnual - 7235.54) * 0.225\n",
    "    elif rendaAnual > 53565.72:\n",
    "        ir = (rendaAnual - 9313.83) * 0.275\n",
    "    return ir\n",
    "\n",
    "renda = float(input(\"Informe a renda anual: \"))\n",
    "\n",
    "ir = calcularIr(renda)\n",
    "\n",
    "print(f\"Renda: R$ {renda:.2f}\")\n",
    "if isinstance(ir, str):\n",
    "    print(ir)\n",
    "else:\n",
    "    print(f\"Imposto de Renda: R$ {ir:.2f}\")"
   ]
  }
 ],
 "metadata": {
  "kernelspec": {
   "display_name": "Python 3",
   "language": "python",
   "name": "python3"
  },
  "language_info": {
   "codemirror_mode": {
    "name": "ipython",
    "version": 3
   },
   "file_extension": ".py",
   "mimetype": "text/x-python",
   "name": "python",
   "nbconvert_exporter": "python",
   "pygments_lexer": "ipython3",
   "version": "3.11.6"
  }
 },
 "nbformat": 4,
 "nbformat_minor": 2
}
